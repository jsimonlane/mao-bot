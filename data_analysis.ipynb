{
 "cells": [
  {
   "cell_type": "markdown",
   "metadata": {},
   "source": [
    "# CS 182 Mao Bot Graphs and Such\n",
    "###  Jack Lane, Matt Sciamannna, and Andrew Soldini"
   ]
  },
  {
   "cell_type": "code",
   "execution_count": 2,
   "metadata": {},
   "outputs": [],
   "source": [
    "import numpy as np\n",
    "import pandas as pd\n",
    "import matplotlib\n",
    "import matplotlib.pyplot as plt\n",
    "import scipy.stats as sc\n",
    "import pickle\n",
    "\n",
    "import random\n",
    "from game import * \n",
    "\n",
    "mao_path = ''"
   ]
  },
  {
   "cell_type": "code",
   "execution_count": null,
   "metadata": {},
   "outputs": [],
   "source": [
    "random.seed(1234)\n",
    "\n",
    "\n",
    "p1 = RandomAgent(\"J\")\n",
    "p2 = HmmAgent(\"Learner\")\n",
    "\n",
    "g = Game([p1, p2], True)\n",
    "g.playGame(20)\n",
    "\n",
    "# print stats\n",
    "for player in g.players:\n",
    "    print player.name\n",
    "    print player.wins\n",
    "    if type(player) == CardCounter or type(player) == RandomAgent or type(player) == HmmAgent:\n",
    "        try:\n",
    "            print np.average(player.validPercentByRound)\n",
    "        except:\n",
    "            print 'div by zero'\n",
    "\n",
    "poss_states = pd.DataFrame([g.players[1].numStates, g.players[1].notificationMatch])\n",
    "poss_states = poss_states.transpose()\n",
    "possibleStates = poss_states\n",
    "\n",
    "youWins = []\n",
    "theyWins = []\n",
    "for i in range(len(possibleStates[0])):\n",
    "    if possibleStates[1][i] == 3:\n",
    "        theyWins.append(i)\n",
    "    if possibleStates[1][i] == 4:\n",
    "        youWins.append(i)\n",
    "        \n",
    "X = [x for x in range(len(possibleStates[0]))]\n",
    "ones = [1] * len(X)\n",
    "\n",
    "\n",
    "fig, ax = plt.subplots(nrows=1, ncols=1, sharex='col', figsize=(15,5))\n",
    "ax.plot(X, possibleStates[0].values)\n",
    "ax.plot(X, ones, alpha=0.5)\n",
    "ax.get_xaxis().set_visible(False)\n",
    "for win in youWins:\n",
    "    ax.axvline(x=win, color = 'g', linewidth=0.4)\n",
    "for win in theyWins:\n",
    "    ax.axvline(x=win, color = 'r', linewidth=0.4)\n",
    "# ax.set_xticklabels(list(possibleStates['type'].values))\n",
    "ax.set_ylabel('Number of Possible States')\n",
    "ax.set_title('Number of Possible States Through 20 Rounds')\n",
    "plt.show()"
   ]
  },
  {
   "cell_type": "code",
   "execution_count": null,
   "metadata": {},
   "outputs": [],
   "source": [
    "random.seed(1234)\n",
    "\n",
    "p1 = HmmAgent(\"J\")\n",
    "\n",
    "p2 = HmmAgent(\"Learner\")\n",
    "\n",
    "g = Game([p1, p2], True)\n",
    "g.playGame(20)\n",
    "\n",
    "#print stats\n",
    "for player in g.players:\n",
    "    print player.name\n",
    "    print player.wins\n",
    "    if type(player) == CardCounter or type(player) == RandomAgent or type(player) == HmmAgent:\n",
    "        try:\n",
    "            print np.average(player.validPercentByRound)\n",
    "        except:\n",
    "            print 'div by zero'\n",
    "for i in range(2):\n",
    "    poss_states = pd.DataFrame([g.players[i].numStates, g.players[i].notificationMatch])\n",
    "    poss_states = poss_states.transpose()\n",
    "    possibleStates = poss_states\n",
    "\n",
    "    youWins = []\n",
    "    theyWins = []\n",
    "    for i in range(len(possibleStates[0])):\n",
    "        if possibleStates[1][i] == 3:\n",
    "            theyWins.append(i)\n",
    "        if possibleStates[1][i] == 4:\n",
    "            youWins.append(i)\n",
    "\n",
    "    X = [x for x in range(len(possibleStates[0]))]\n",
    "    ones = [1] * len(X)\n",
    "\n",
    "\n",
    "    fig, ax = plt.subplots(nrows=1, ncols=1, sharex='col', figsize=(15,5))\n",
    "    ax.plot(X, possibleStates[0].values)\n",
    "    ax.plot(X, ones, alpha=0.5)\n",
    "    ax.get_xaxis().set_visible(False)\n",
    "    for win in youWins:\n",
    "        ax.axvline(x=win, color = 'g', linewidth=0.4)\n",
    "    for win in theyWins:\n",
    "        ax.axvline(x=win, color = 'r', linewidth=0.4)\n",
    "    # ax.set_xticklabels(list(possibleStates['type'].values))\n",
    "    ax.set_ylabel('Number of Possible States')\n",
    "    ax.set_title('Number of Possible States Through 20 Rounds')\n",
    "    plt.show()"
   ]
  },
  {
   "cell_type": "code",
   "execution_count": null,
   "metadata": {},
   "outputs": [],
   "source": [
    "def playAgents(agent1, agent2, numRounds=50, numGames=100, printGameStart=True):    \n",
    "    player_names = ['Random', 'Agent']\n",
    "    player_wins = [[],[]]\n",
    "    player_valid = [[],[]]\n",
    "        \n",
    "    for game in range(numGames):\n",
    "        if agent1 != QPlayer: \n",
    "            if agent2 != QPlayer:\n",
    "                pHuman = agent1('Agent1')\n",
    "                pBot1 = agent2('Agent2')\n",
    "            else:    \n",
    "                pHuman = agent1('Agent1')\n",
    "                pBot1 = QPlayer('Qplay', [SizeofHand(), HighCount(), LowCount(), Illegality(), \n",
    "                                          SkipCount(), ScrewCount(), PoisonCount(), WildValue(), \n",
    "                                          MajorityPercent(), WildSuit(), PlayScrew(), PlaySkip()], \n",
    "                                pickle.loads(trainingWeights5), pHuman)\n",
    "        else:\n",
    "            if agent2 != QPlayer:\n",
    "                pHuman = agent2('Agent2')\n",
    "                pBot1 = QPlayer('Qplay', [SizeofHand(), HighCount(), LowCount(), Illegality(), \n",
    "                                          SkipCount(), ScrewCount(), PoisonCount(), WildValue(), \n",
    "                                          MajorityPercent(), WildSuit(), PlayScrew(), PlaySkip()], \n",
    "                                pickle.loads(trainingWeights5), pHuman)\n",
    "            else:\n",
    "                pHuman = QPlayer('Qplay', [SizeofHand(), HighCount(), LowCount(), Illegality(), \n",
    "                                              SkipCount(), ScrewCount(), PoisonCount(), WildValue(), \n",
    "                                              MajorityPercent(), WildSuit(), PlayScrew(), PlaySkip()], \n",
    "                                    pickle.loads(trainingWeights5), QPlayer)\n",
    "                pBot1 = QPlayer('Qplay', [SizeofHand(), HighCount(), LowCount(), Illegality(), \n",
    "                                          SkipCount(), ScrewCount(), PoisonCount(), WildValue(), \n",
    "                                          MajorityPercent(), WildSuit(), PlayScrew(), PlaySkip()], \n",
    "                                pickle.loads(trainingWeights5), QPlayer)\n",
    "        \n",
    "        if printGameStart:\n",
    "            print agent1,'vs', agent2, \"game:\", game+1\n",
    "\n",
    "        g = Game([pHuman, pBot1], True)\n",
    "        g.playGame(numRounds)\n",
    "        for i in range(len(g.players)):\n",
    "            player_wins[i].append(g.players[i].wins)\n",
    "            player_valid[i].append(np.average(g.players[i].validPercentByRound))\n",
    "    return player_wins, player_valid\n"
   ]
  },
  {
   "cell_type": "code",
   "execution_count": null,
   "metadata": {},
   "outputs": [],
   "source": [
    "# basic_wins, basic_valid = playRandom(LearningAgent, numRounds=20, numGames=100, printGameStart=True)\n",
    "hmm_wins, hmm_valid = playRandom(HmmAgent, RandomAgent, numRounds=50, numGames=100, printGameStart=True)\n",
    "card_wins, card_valid = playRandom(CardCounter, RandomAgent, numRounds=50, numGames=100, printGameStart=True)\n",
    "heur_wins, heur_valid = playRandom(HeuristicAgent, RandomAgent, numRounds=50, numGames=100, printGameStart=True)"
   ]
  },
  {
   "cell_type": "code",
   "execution_count": null,
   "metadata": {},
   "outputs": [],
   "source": [
    "wins = [np.sum(hmm_wins[1]),np.sum(card_wins[1]), np.sum(heur_wins[1])]\n",
    "names = ['HMM','ExpectiMax', 'Heuristic']\n",
    "validities = [np.mean(hmm_valid[1]), np.mean(card_valid[1] ), np.mean(heur_valid[1])]\n",
    "\n",
    "fig, ax = plt.subplots(nrows=1, ncols=1, figsize=(8,5))\n",
    "\n",
    "ax.bar([0,1,2],wins)\n",
    "ax.set_ylim(bottom=3900)\n",
    "ax.set_xticks([0,1,2])\n",
    "ax.set_xticklabels(labels=names)\n",
    "ax.set_title('Wins vs. Random Agent')\n",
    "\n",
    "plt.show()"
   ]
  },
  {
   "cell_type": "markdown",
   "metadata": {},
   "source": [
    "# Warning below block will take a very very long time to run"
   ]
  },
  {
   "cell_type": "code",
   "execution_count": null,
   "metadata": {},
   "outputs": [],
   "source": [
    "agentList = [RandomAgent, HmmAgent, CardCounter, HeuristicAgent, QPlayer]\n",
    "agentTable = {}\n",
    "for agent1 in range(len(agentList)):\n",
    "    agentTable[str(agent1)] = {}\n",
    "    for agent2 in range(agent1+1, len(agentList)):\n",
    "        if agentList[agent1] == QPlayer or agentList[agent2] == QPlayer:\n",
    "            player_wins, player_valid = playAgents(agentList[agent1],agentList[agent2], numRounds=10, numGames=50, printGameStart=True)\n",
    "        else:\n",
    "            player_wins, player_valid = playAgents(agentList[agent1],agentList[agent2], numRounds=50, numGames=100, printGameStart=True)\n",
    "        agentTable[str(agent1)][str(agent2)] = np.sum(player_wins[0])\n",
    "    "
   ]
  },
  {
   "cell_type": "code",
   "execution_count": null,
   "metadata": {},
   "outputs": [],
   "source": [
    "print agentTable\n",
    "\n",
    "tabletable = pd.DataFrame(agentTable)\n",
    "tabletable.index = ['HMM', 'CardCounter', 'Heuristic', 'QLearning*']\n",
    "tabletable.columns = ['Random','HMM', 'CardCounter', 'Heuristic', 'QLearning*']\n",
    "tabletable = tabletable.drop(['QLearning*'], axis=1)\n",
    "tabletable"
   ]
  },
  {
   "cell_type": "code",
   "execution_count": null,
   "metadata": {},
   "outputs": [],
   "source": []
  },
  {
   "cell_type": "code",
   "execution_count": null,
   "metadata": {
    "collapsed": true
   },
   "outputs": [],
   "source": [
    "player_names = ['Random', 'Card']\n",
    "player_wins = [[],[]]\n",
    "player_valid = [[],[]]\n",
    "\n",
    "for game in range(100):\n",
    "    pHuman = RandomAgent('Random')\n",
    "    pBot1 = CardCounter('Card')\n",
    "    print \"game:\", game+1\n",
    "    \n",
    "    g = Game([pHuman, pBot1], True)\n",
    "    g.playGame(50)\n",
    "    for i in range(len(g.players)):\n",
    "        player_wins[i].append(g.players[i].wins)\n",
    "        player_valid[i].append(np.average(g.players[i].validPercentByRound))"
   ]
  },
  {
   "cell_type": "code",
   "execution_count": null,
   "metadata": {
    "collapsed": true
   },
   "outputs": [],
   "source": [
    "huer_names = ['Random', 'Heur']\n",
    "huer_wins = [[],[]]\n",
    "huer_valid = [[],[]]\n",
    "\n",
    "for game in range(100):\n",
    "    pHuman = RandomAgent('Random')\n",
    "    pBot1 = HeuristicAgent('Heur')\n",
    "    print \"game:\", game+1\n",
    "    \n",
    "    g = Game([pHuman, pBot1], True)\n",
    "    g.playGame(50)\n",
    "    for i in range(len(g.players)):\n",
    "        player_wins[i].append(g.players[i].wins)\n",
    "        player_valid[i].append(np.average(g.players[i].validPercentByRound))"
   ]
  },
  {
   "cell_type": "code",
   "execution_count": null,
   "metadata": {},
   "outputs": [],
   "source": []
  },
  {
   "cell_type": "code",
   "execution_count": null,
   "metadata": {},
   "outputs": [],
   "source": [
    "player_names = ['J', 'lerner']\n",
    "player_wins = [[],[]]\n",
    "player_valid = [[],[]]\n",
    "\n",
    "for game in range(100):\n",
    "    pHuman = HmmAgent(\"J\")\n",
    "    pBot1 = CardCounter(\"Learner\")\n",
    "    print \"game:\", game\n",
    "    \n",
    "    g = Game([pHuman, pBot1], True)\n",
    "    g.playGame(50)\n",
    "    for i in range(len(g.players)):\n",
    "        player_wins[i].append(g.players[i].wins)\n",
    "        player_valid[i].append(np.average(g.players[i].validPercentByRound))\n",
    "#print stats"
   ]
  },
  {
   "cell_type": "code",
   "execution_count": null,
   "metadata": {},
   "outputs": [],
   "source": [
    "fig, ax = plt.subplots(nrows=2, ncols=1, sharex='col', figsize=(15,5))\n",
    "for i in range(2):\n",
    "    X = [x for x in range(len(player_wins[i]))]\n",
    "    print player_names[i]\n",
    "    print np.sum(player_wins[i])\n",
    "    print np.mean(player_valid[i])\n",
    "\n",
    "plt.show()\n",
    "        "
   ]
  },
  {
   "cell_type": "code",
   "execution_count": null,
   "metadata": {},
   "outputs": [],
   "source": [
    "\n",
    "sc.ttest_ind(player_wins[1],player_wins[0])"
   ]
  },
  {
   "cell_type": "code",
   "execution_count": null,
   "metadata": {},
   "outputs": [],
   "source": [
    "heur_player_names = ['J', 'lerner']\n",
    "heur_player_wins = [[],[]]\n",
    "heur_player_valid = [[],[]]\n",
    "\n",
    "\n",
    "for game in range(100):\n",
    "    pHuman = HmmAgent(\"J\")\n",
    "    pBot1 = HeuristicAgent(\"Learner\")\n",
    "    print \"game:\", game\n",
    "    \n",
    "    g = Game([pHuman, pBot1], True)\n",
    "    g.playGame(50)\n",
    "    for i in range(len(g.players)):\n",
    "        heur_player_wins[i].append(g.players[i].wins)\n",
    "        heur_player_valid[i].append(np.average(g.players[i].validPercentByRound))"
   ]
  },
  {
   "cell_type": "code",
   "execution_count": null,
   "metadata": {},
   "outputs": [],
   "source": [
    "sc.ttest_ind(heur_player_wins[1],heur_player_wins[0])"
   ]
  },
  {
   "cell_type": "code",
   "execution_count": null,
   "metadata": {},
   "outputs": [],
   "source": [
    "fig, ax = plt.subplots(nrows=2, ncols=1, sharex='col', figsize=(15,5))\n",
    "for i in range(2):\n",
    "    X = [x for x in range(len(heur_player_wins[i]))]\n",
    "    print heur_player_names[i]\n",
    "    print np.sum(heur_player_wins[i])\n",
    "    print np.mean(heur_player_valid[i])\n",
    "\n",
    "\n",
    "plt.show()\n",
    "        "
   ]
  },
  {
   "cell_type": "code",
   "execution_count": null,
   "metadata": {},
   "outputs": [],
   "source": [
    "heur2_player_names = ['J', 'lerner']\n",
    "heur2_player_wins = [[],[]]\n",
    "heur2_player_valid = [[],[]]\n",
    "\n",
    "\n",
    "for game in range(20):\n",
    "    pHuman = CardCounter(\"J\")\n",
    "    pBot1 = HeuristicAgent(\"Learner\")\n",
    "    print \"game:\", game\n",
    "    \n",
    "    g = Game([pHuman, pBot1], True)\n",
    "    g.playGame(20)\n",
    "    for i in range(len(g.players)):\n",
    "        heur2_player_wins[i].append(g.players[i].wins)\n",
    "        heur2_player_valid[i].append(np.average(g.players[i].validPercentByRound))"
   ]
  },
  {
   "cell_type": "code",
   "execution_count": null,
   "metadata": {},
   "outputs": [],
   "source": [
    "sc.ttest_ind(heur2_player_wins[1],heur2_player_wins[0])"
   ]
  },
  {
   "cell_type": "code",
   "execution_count": null,
   "metadata": {},
   "outputs": [],
   "source": [
    "dictList = pickle.load(open( 'weightChange.txt', \"rb\" ))"
   ]
  },
  {
   "cell_type": "code",
   "execution_count": null,
   "metadata": {},
   "outputs": [],
   "source": [
    "import pprint\n",
    "pp = pprint.PrettyPrinter(indent=4)\n",
    "# pp.pprint(dictList[1:])\n",
    "\n",
    "new_dictList = [{   'HighCount ': -1,\n",
    "        'Illegality': -1,\n",
    "        'LowCount o': -1,\n",
    "        'MajorityPe': -1,\n",
    "        'PlayScrew ': -1,\n",
    "        'PlaySkip o': -1,\n",
    "        'PoisonCoun': -1,\n",
    "        'ScrewCount': -1,\n",
    "        'SizeofHand': -1,\n",
    "        'SkipCount ': -1,\n",
    "        'WildSuit o': -1,\n",
    "        'WildValue ': -1}]\n",
    "for item in dictList[1:]:\n",
    "    newDict = {}\n",
    "    for key in item.keys():\n",
    "        newKey = str(key)[:]\n",
    "        value = item[key]\n",
    "        newKey = newKey[10:20]\n",
    "        newDict[newKey] = value\n",
    "    new_dictList.append(newDict)\n",
    "        \n",
    "pp.pprint(new_dictList)"
   ]
  },
  {
   "cell_type": "code",
   "execution_count": null,
   "metadata": {},
   "outputs": [],
   "source": [
    "featureframe = pd.DataFrame(new_dictList)\n",
    "featureframe.columns = ['HighCount', 'Illegality','LowCount','MajorityPercent', 'PlayScrew', 'PlaySkip', 'PoisonCount', 'ScrewCount', 'SizeofHand', 'SkipCount', 'WildSuit', 'WildValue']\n",
    "featureframe"
   ]
  },
  {
   "cell_type": "code",
   "execution_count": null,
   "metadata": {},
   "outputs": [],
   "source": [
    "fig, ax = plt.subplots(nrows=1, ncols=1, figsize=(15,5))\n",
    "for column in featureframe.columns:\n",
    "    X = [x for x in range(20)]\n",
    "    ax.plot(X, featureframe[column].values, label=column)\n",
    "    ax.set_xlabel('Rounds of Training (Times 3000)')\n",
    "#     ax.set_xticks(X*3000)\n",
    "    ax.set_ylabel('Feature Weight')\n",
    "    ax.set_title('Features through training')\n",
    "\n",
    "plt.legend(loc=1)\n",
    "plt.show()"
   ]
  },
  {
   "cell_type": "code",
   "execution_count": null,
   "metadata": {},
   "outputs": [],
   "source": [
    "player_names = ['Random', 'BasicAgent','HMMAgent']\n",
    "player_wins = [[],[],[]]\n",
    "player_valid = [[],[],[]]\n",
    "\n",
    "\n",
    "for game in range(30):\n",
    "    p0 = RandomAgent('Random')\n",
    "    p1 = LearningAgent('BasicAgent')\n",
    "    p2 = HmmAgent('HMMAgent')\n",
    "    print \"game:\", game\n",
    "    \n",
    "    g = Game([p0, p1, p2], True, handsize=10)\n",
    "    g.playGame(50)\n",
    "    for i in range(len(g.players)):\n",
    "        player_wins[i].append(g.players[i].wins)\n",
    "        player_valid[i].append(np.average(g.players[i].validPercentByRound))\n",
    "#print stats"
   ]
  },
  {
   "cell_type": "code",
   "execution_count": null,
   "metadata": {},
   "outputs": [],
   "source": [
    "fig, ax = plt.subplots(nrows=2, ncols=1, sharex='col', figsize=(15,5))\n",
    "for i in range(3):\n",
    "    X = [x for x in range(len(player_wins[i]))]\n",
    "    print player_names[i]\n",
    "    print np.sum(player_wins[i])\n",
    "    print np.mean(player_valid[i])\n",
    "\n",
    "\n",
    "plt.show()"
   ]
  },
  {
   "cell_type": "code",
   "execution_count": null,
   "metadata": {},
   "outputs": [],
   "source": [
    "plt.pie([np.sum(player_wins[i]) for i in range(3)], labels=player_names, autopct=str, startangle=50)\n",
    "plt.legend()\n",
    "plt.title('Round Win Pctg Over 30 Games of 50 Rounds')\n",
    "plt.show()"
   ]
  },
  {
   "cell_type": "code",
   "execution_count": 9,
   "metadata": {},
   "outputs": [
    {
     "name": "stdout",
     "output_type": "stream",
     "text": [
      "Ttest_indResult(statistic=74.60300757865227, pvalue=0.0)\n",
      "Ttest_indResult(statistic=81.54355814859208, pvalue=0.0)\n",
      "Ttest_indResult(statistic=85.16160470076686, pvalue=0.0)\n",
      "Ttest_indResult(statistic=3.6019748184127938, pvalue=0.00031734077435738637)\n",
      "Ttest_indResult(statistic=7.218013364671647, pvalue=5.658970527603958e-13)\n",
      "Ttest_indResult(statistic=6.010228134774536, pvalue=1.9173339879168476e-09)\n",
      "Ttest_indResult(statistic=-325.8394732610009, pvalue=0.0)\n",
      "Ttest_indResult(statistic=-416.72492626595044, pvalue=0.0)\n",
      "Ttest_indResult(statistic=-276.50336681420407, pvalue=0.0)\n",
      "Ttest_indResult(statistic=-393.50449699874025, pvalue=0.0)\n"
     ]
    }
   ],
   "source": [
    "lists = [3995, 4080 , 4121 , 2590 , 2680, 2650]\n",
    "list2 = [110, 69, 149, 77]\n",
    "\n",
    "for num in lists:\n",
    "    arr1 = [0]*(5000-num) + [1]*num\n",
    "    arr2 = [1]*(5000-num) + [0]*num\n",
    "    print sc.ttest_ind(arr1,arr2)\n",
    "    \n",
    "for num in list2:\n",
    "    arr1 = [0]*(5000-num) + [1]*num\n",
    "    arr2 = [1]*(5000-num) + [0]*num\n",
    "    print sc.ttest_ind(arr1,arr2)\n"
   ]
  },
  {
   "cell_type": "code",
   "execution_count": null,
   "metadata": {
    "collapsed": true
   },
   "outputs": [],
   "source": []
  }
 ],
 "metadata": {
  "kernelspec": {
   "display_name": "Python 2",
   "language": "python",
   "name": "python2"
  },
  "language_info": {
   "codemirror_mode": {
    "name": "ipython",
    "version": 2
   },
   "file_extension": ".py",
   "mimetype": "text/x-python",
   "name": "python",
   "nbconvert_exporter": "python",
   "pygments_lexer": "ipython2",
   "version": "2.7.13"
  }
 },
 "nbformat": 4,
 "nbformat_minor": 2
}
